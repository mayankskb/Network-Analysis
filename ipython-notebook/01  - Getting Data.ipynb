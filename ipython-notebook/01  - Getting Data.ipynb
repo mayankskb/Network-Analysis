{
 "cells": [
  {
   "cell_type": "markdown",
   "metadata": {},
   "source": [
    "#  Scraping of Data \n",
    "\n",
    "<b> Here we are scraping the data from the meetup.com using the REST API </b>"
   ]
  },
  {
   "cell_type": "markdown",
   "metadata": {},
   "source": [
    "** Importing Requisites **"
   ]
  },
  {
   "cell_type": "code",
   "execution_count": 1,
   "metadata": {
    "collapsed": true
   },
   "outputs": [],
   "source": [
    "import requests\n",
    "import pandas as pd\n",
    "from json import loads"
   ]
  },
  {
   "cell_type": "markdown",
   "metadata": {},
   "source": [
    "** Defining base stuff **"
   ]
  },
  {
   "cell_type": "code",
   "execution_count": 2,
   "metadata": {
    "collapsed": true
   },
   "outputs": [],
   "source": [
    "api_token = '5d1e1736057567d21d18111b3e363c'\n",
    "\n",
    "api_url_base = 'https://api.meetup.com/'"
   ]
  },
  {
   "cell_type": "code",
   "execution_count": 3,
   "metadata": {
    "collapsed": true
   },
   "outputs": [],
   "source": [
    "url = '{0}/find/groups'.format(api_url_base)\n",
    "\n",
    "\n",
    "headers = {\n",
    "    'sign' : 'true',\n",
    "    'key' : api_token,\n",
    "    'zip' : '411030'    \n",
    "}"
   ]
  },
  {
   "cell_type": "code",
   "execution_count": 4,
   "metadata": {
    "collapsed": true
   },
   "outputs": [],
   "source": [
    "def get_meetup_group_data(url, headers):\n",
    "    \n",
    "    # Making a get request for data\n",
    "    resp = requests.get(url, params = headers)\n",
    "    \n",
    "    status = resp.status_code\n",
    "    \n",
    "    # Printing status\n",
    "    print('Response Code : {}'.format(status))\n",
    "    \n",
    "    # check that we either got a successful response (200) or a previously retrieved, but still valid response (304)\n",
    "    if status == 200:\n",
    "        ddata = loads(resp.text)\n",
    "        data = pd.DataFrame.from_dict(ddata)\n",
    "        \n",
    "        print('-' * 100)\n",
    "        print('Printing Header')\n",
    "        print('-' * 100)\n",
    "        print(data.head())\n",
    "        \n",
    "        print('-' * 100)\n",
    "        print('Start Cleaning')\n",
    "        \n",
    "        data['group_id'] = data['id']\n",
    "        data['group_name'] = data['name']\n",
    "        \n",
    "        category_id = []\n",
    "        category_name = []\n",
    "        \n",
    "        for idx, row in data['meta_category'].iteritems():\n",
    "            try:\n",
    "                category_id.append(int(row['id']))\n",
    "            except:\n",
    "                category_id.append(0)\n",
    "    \n",
    "            try:\n",
    "                category_name.append(row['name'])\n",
    "            except:\n",
    "                category_name.append(None)\n",
    "\n",
    "        data['category_id'] = category_id\n",
    "        data['category_name'] = category_name\n",
    "            \n",
    "        organizer_id = []\n",
    "           \n",
    "        for idx, row in data['organizer'].iteritems():\n",
    "            try:\n",
    "                organizer_id.append(int(row['id']))\n",
    "            except:\n",
    "                organizer_id.append(0)\n",
    "\n",
    "        data['organizer_id'] = organizer_id\n",
    "            \n",
    "        columns = ['group_id', 'group_name', 'members', 'category_id', 'category_name', 'organizer_id', 'urlname']\n",
    "        \n",
    "        data = data[columns]\n",
    "        \n",
    "        print('Cleaning Finished')\n",
    "        print('-' * 100)\n",
    "        \n",
    "        print('Few Insights')\n",
    "        \n",
    "        print('Columns in Meetup Group Data : ')\n",
    "        print(data.columns)\n",
    "        \n",
    "        print('-' * 100)\n",
    "        \n",
    "        print('Printing Header')\n",
    "        print(data.head())\n",
    "        \n",
    "        print('-' * 100)\n",
    "        \n",
    "        print('Saving to csv file.....')\n",
    "        data.to_csv('../dataFiles/meetup_group.csv', index=False)\n",
    "        \n",
    "    else:\n",
    "        print('Failed to Execute ..... :')"
   ]
  },
  {
   "cell_type": "code",
   "execution_count": 5,
   "metadata": {},
   "outputs": [
    {
     "name": "stdout",
     "output_type": "stream",
     "text": [
      "Response Code : 200\n",
      "----------------------------------------------------------------------------------------------------\n",
      "Printing Header\n",
      "----------------------------------------------------------------------------------------------------\n",
      "                                            category  city country  \\\n",
      "0  {'id': 34, 'name': 'Tech', 'shortname': 'tech'...  Pune      IN   \n",
      "1  {'id': 34, 'name': 'Tech', 'shortname': 'tech'...  Pune      IN   \n",
      "2  {'id': 34, 'name': 'Tech', 'shortname': 'tech'...  Pune      IN   \n",
      "3  {'id': 34, 'name': 'Tech', 'shortname': 'tech'...  Pune      IN   \n",
      "4  {'id': 34, 'name': 'Tech', 'shortname': 'tech'...  Pune      IN   \n",
      "\n",
      "         created                                        description  \\\n",
      "0  1453394389000  <p>Pune Developers Platform for learning and s...   \n",
      "1  1343185829000  <p>The Place for Developers to Discuss Google ...   \n",
      "2  1504861392000  <p>This is a monthly/bi-monthly event hosted b...   \n",
      "3  1335255100000  <p><span><span>Launched and run by</span> <a h...   \n",
      "4  1377009941000  <p>Pune mobile developers group is for enthusi...   \n",
      "\n",
      "                                         group_photo        id join_mode  \\\n",
      "0  {'id': 456180460, 'highres_link': 'https://sec...  19394496      open   \n",
      "1  {'id': 142490472, 'highres_link': 'https://sec...   4387912  approval   \n",
      "2                                                NaN  25835616      open   \n",
      "3  {'id': 455172429, 'highres_link': 'https://sec...   3730702      open   \n",
      "4  {'id': 385229582, 'highres_link': 'https://sec...   9892342      open   \n",
      "\n",
      "                                           key_photo    lat  \\\n",
      "0  {'id': 468726706, 'highres_link': 'https://sec...  18.53   \n",
      "1  {'id': 453959842, 'highres_link': 'https://sec...  18.53   \n",
      "2  {'id': 468008790, 'highres_link': 'https://sec...  18.53   \n",
      "3  {'id': 466731285, 'highres_link': 'https://sec...  18.53   \n",
      "4  {'id': 451569663, 'highres_link': 'https://sec...  18.53   \n",
      "\n",
      "         ...                                                 next_event  \\\n",
      "0        ...          {'id': '249866654', 'name': 'Nodejs ExpressJs'...   \n",
      "1        ...          {'id': '249975930', 'name': 'Tensorflow Summit...   \n",
      "2        ...                                                        NaN   \n",
      "3        ...          {'id': '249861789', 'name': 'Microservices tes...   \n",
      "4        ...                                                        NaN   \n",
      "\n",
      "                                           organizer  \\\n",
      "0  {'id': 182849219, 'name': 'Suyog', 'bio': '', ...   \n",
      "1  {'id': 25480862, 'name': 'mahaveermuttha', 'bi...   \n",
      "2  {'id': 235949519, 'name': 'ThoughtWorks Pune E...   \n",
      "3  {'id': 14196782, 'name': 'Ashish', 'bio': 'I'm...   \n",
      "4  {'id': 15585881, 'name': 'Ashutosh Tripathi', ...   \n",
      "\n",
      "                                         pro_network  score  state  status  \\\n",
      "0                                                NaN    1.0         active   \n",
      "1  {'name': 'GDG', 'urlname': 'gdg', 'number_of_g...    1.0         active   \n",
      "2                                                NaN    1.0         active   \n",
      "3                                                NaN    1.0         active   \n",
      "4                                                NaN    1.0         active   \n",
      "\n",
      "        timezone                      urlname visibility                who  \n",
      "0  Asia/Calcutta    Pune-Developers-Community     public                PDC  \n",
      "1  Asia/Calcutta                     Pune-GDG     public            Members  \n",
      "2  Asia/Calcutta  ThoughtWorks-GeekNight-Pune     public            Members  \n",
      "3  Asia/Calcutta            expert-talks-Pune     public   Tech Enthusiasts  \n",
      "4  Asia/Calcutta       Pune-Mobile-Developers     public  Mobile Developers  \n",
      "\n",
      "[5 rows x 27 columns]\n",
      "----------------------------------------------------------------------------------------------------\n",
      "Start Cleaning\n",
      "Cleaning Finished\n",
      "----------------------------------------------------------------------------------------------------\n",
      "Few Insights\n",
      "Columns in Meetup Group Data : \n",
      "Index(['group_id', 'group_name', 'members', 'category_id', 'category_name',\n",
      "       'organizer_id', 'urlname'],\n",
      "      dtype='object')\n",
      "----------------------------------------------------------------------------------------------------\n",
      "Printing Header\n",
      "   group_id                              group_name  members  category_id  \\\n",
      "0  19394496              Pune Developer's Community     4262          292   \n",
      "1   4387912  Google Developer Group Pune : GDG Pune     6130          292   \n",
      "2  25835616                ThoughtWorks Pune Events     1225          292   \n",
      "3   3730702                        ExpertTalks Pune     6023          292   \n",
      "4   9892342                  Pune Mobile Developers     4679          292   \n",
      "\n",
      "  category_name  organizer_id                      urlname  \n",
      "0          Tech     182849219    Pune-Developers-Community  \n",
      "1          Tech      25480862                     Pune-GDG  \n",
      "2          Tech     235949519  ThoughtWorks-GeekNight-Pune  \n",
      "3          Tech      14196782            expert-talks-Pune  \n",
      "4          Tech      15585881       Pune-Mobile-Developers  \n",
      "----------------------------------------------------------------------------------------------------\n",
      "Saving to csv file.....\n"
     ]
    }
   ],
   "source": [
    "get_meetup_group_data(url, headers)"
   ]
  }
 ],
 "metadata": {
  "anaconda-cloud": {},
  "kernelspec": {
   "display_name": "Python 3",
   "language": "python",
   "name": "python3"
  },
  "language_info": {
   "codemirror_mode": {
    "name": "ipython",
    "version": 3
   },
   "file_extension": ".py",
   "mimetype": "text/x-python",
   "name": "python",
   "nbconvert_exporter": "python",
   "pygments_lexer": "ipython3",
   "version": "3.6.3"
  }
 },
 "nbformat": 4,
 "nbformat_minor": 2
}
